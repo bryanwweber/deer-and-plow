{
 "cells": [
  {
   "cell_type": "markdown",
   "id": "02835f81-1075-4d3e-899c-4ec449d5b1ff",
   "metadata": {},
   "source": [
    "# Deer and Plow\n",
    "\n",
    "Assumptions:\n",
    "\n",
    "1. Deer weighs 60 lbs\n",
    "2. Truck is driving 45 mph\n",
    "3. Truck does not slow down when it hits the deer\n",
    "4. The only effects on the deer are gravity, air drag and friction are neglected\n",
    "5. The deer leaves the plow at 45 mph and an angle of 30° from the vertical\n",
    "6. The top of the plow is 6 ft off the ground"
   ]
  },
  {
   "cell_type": "code",
   "execution_count": 1,
   "id": "12e08bb8-7b36-4f30-85a7-e8f860413bc0",
   "metadata": {},
   "outputs": [],
   "source": [
    "import pint\n",
    "import numpy as np\n",
    "import matplotlib.pyplot as plt\n",
    "from scipy.integrate import solve_ivp\n",
    "\n",
    "units = pint.UnitRegistry()\n",
    "Q_ = units.Quantity\n",
    "units.setup_matplotlib()"
   ]
  },
  {
   "cell_type": "code",
   "execution_count": 2,
   "id": "c57dbf0f-46c1-4108-8f6c-e4f00a57e06a",
   "metadata": {},
   "outputs": [],
   "source": [
    "m_deer = Q_(120, \"lbs\")\n",
    "V_deer = Q_(45, \"mph\")\n",
    "theta_deer = Q_(30, \"degree\")\n",
    "h_0 = Q_(6, \"ft\")"
   ]
  },
  {
   "cell_type": "markdown",
   "id": "6f0a3e29-f67b-4cce-8276-fec615513279",
   "metadata": {},
   "source": [
    "For this kinematics problem, the equations of motion for the deer in 2 dimensions are:\n",
    "\n",
    "$$\\begin{gather*}\n",
    "\\frac{d^2 x}{dt^2} = 0 \\\\\n",
    "\\frac{dx}{dt} = V_0 \\sin{\\theta} \\\\\n",
    "x(t) = V_0 t \\sin{\\theta}\n",
    "\\end{gather*}$$\n",
    "\n",
    "and\n",
    "\n",
    "$$\\begin{gather*}\n",
    "\\frac{d^2 y}{dt^2} = -g \\\\\n",
    "\\frac{dy}{dt} = -g t + V_0 \\cos{\\theta} \\\\\n",
    "y(t) = -\\frac{1}{2}g t^2 + V_0 t \\cos{\\theta} + h_0\n",
    "\\end{gather*}$$\n",
    "\n",
    "We need to solve for $t_f$ when $y(t) = 0$, then calculate $x(t_f)$."
   ]
  },
  {
   "cell_type": "code",
   "execution_count": 3,
   "id": "171506ce-5a22-4082-bc38-2e3d97337120",
   "metadata": {},
   "outputs": [
    {
     "name": "stdout",
     "output_type": "stream",
     "text": [
      "-0.10204215050618629 second\n"
     ]
    }
   ],
   "source": [
    "a = -1*units.gravity / 2\n",
    "b = V_deer * np.cos(theta_deer)\n",
    "c = h_0\n",
    "t_f = (-b + np.sqrt(b**2 - 4*a*c)) / (2*a)\n",
    "print(t_f.to(\"seconds\"))"
   ]
  },
  {
   "cell_type": "code",
   "execution_count": 4,
   "id": "b4000a73-7d0f-45fc-b750-61a20be79351",
   "metadata": {},
   "outputs": [
    {
     "name": "stdout",
     "output_type": "stream",
     "text": [
      "3.65507195025448 second\n"
     ]
    }
   ],
   "source": [
    "t_f = (-b - np.sqrt(b**2 - 4*a*c)) / (2*a)\n",
    "print(t_f.to(\"seconds\"))"
   ]
  },
  {
   "cell_type": "code",
   "execution_count": 5,
   "id": "72867f0f-dd7e-4b23-8089-baf710220deb",
   "metadata": {},
   "outputs": [
    {
     "name": "stdout",
     "output_type": "stream",
     "text": [
      "120.61737435839781 foot\n"
     ]
    }
   ],
   "source": [
    "x_f = (t_f * V_deer * np.sin(theta_deer)).to(\"feet\")\n",
    "print(x_f)"
   ]
  },
  {
   "cell_type": "markdown",
   "id": "fa56c200-d80b-4f98-8beb-30d4c1244f61",
   "metadata": {},
   "source": [
    "Now let's relax the assumption that there is no drag. To calculate a drag coefficient, we first need an approximation of the Reynolds number. We'll assume the deer is a smooth sphere 4 ft in diameter. The Reynolds number is\n",
    "\n",
    "$$\\mathrm{Re} = \\frac{V D}{\\nu}$$\n",
    "\n",
    "where $D$ is the diameter and $\\nu$ is the kinematic viscosity of air. The kinematic viscosity of air is a weak function of temperature. We can assume a value of $12.75\\times 10^{-6} \\mathrm{m}^2/s$."
   ]
  },
  {
   "cell_type": "code",
   "execution_count": 6,
   "id": "784a782a-4b5a-4251-b727-aaedffdfe9f5",
   "metadata": {},
   "outputs": [
    {
     "name": "stdout",
     "output_type": "stream",
     "text": [
      "1923639.4164705882 dimensionless\n"
     ]
    }
   ],
   "source": [
    "nu = Q_(12.75E-6, \"m^2/s\")\n",
    "D_deer = Q_(4, \"ft\")\n",
    "Re = V_deer * D_deer / nu\n",
    "\n",
    "print(Re.to(\"dimensionless\"))"
   ]
  },
  {
   "cell_type": "markdown",
   "id": "ff089e1d-b386-46ec-a5e1-0eb586309ee4",
   "metadata": {},
   "source": [
    "This Reynolds Number on the order of $10^6$ gives $C_d\\approx 0.1$. It's now easier to write the equations of motion in vector form, where $\\vec{r}$ is the position vector and $\\vec{v}$ is the velocity vector. Assuming the only forces on the deer when it leaves the plow are air drag and gravity, Newton's second law becomes:\n",
    "\n",
    "$$\n",
    "m_{\\text{deer}} \\frac{d^2 \\vec{r}}{dt^2} = \\vec{F}_{\\text{gravity}} + \\vec{F}_{\\text{drag}}\n",
    "$$\n",
    "\n",
    "Dividing through by $m_{\\text{deer}}$ and substituting the definitions of the two forces\n",
    "\n",
    "$$\\begin{gather*}\n",
    "\\frac{d^2 x}{dt^2} = - \\frac{\\rho C_d V_x^2}{2 m_{\\text{deer}}} \\\\\n",
    "\\frac{d^2 y}{dt^2} = - g - \\frac{\\rho C_d V_y^2}{2 m_{\\text{deer}}} \\\\\n",
    "\\end{gather*}$$"
   ]
  },
  {
   "cell_type": "code",
   "execution_count": 7,
   "id": "72e5e65b-2a7c-4f61-9bfe-5c32ee926105",
   "metadata": {},
   "outputs": [],
   "source": [
    "r_vec_0 = np.array((0, h_0.to(\"m\").magnitude))\n",
    "v_vec_0 = np.array(((V_deer * np.sin(theta_deer)).to(\"m/s\").magnitude, (V_deer * np.cos(theta_deer)).to(\"m/s\").magnitude))\n",
    "R_0 = np.hstack((r_vec_0, v_vec_0))\n",
    "rho = Q_(1.25, \"kg/m**3\")\n",
    "C_d = Q_(0.1, \"dimensionless\")\n",
    "A_deer = units.pi * D_deer**2 / 4\n",
    "\n",
    "def equation_of_motion(t, r, turn_on_drag):\n",
    "    x = Q_(r[0], \"m\")\n",
    "    y = Q_(r[1], \"m\")\n",
    "    x_dot = Q_(r[2], \"m/s\")\n",
    "    y_dot = Q_(r[3], \"m/s\")\n",
    "\n",
    "    r_dot = np.zeros_like(r)\n",
    "    r_dot[:2] = r[2:]\n",
    "\n",
    "    # r_dot[3] = -(1*units.gravity + \n",
    "    r_dot[2] = 0\n",
    "    if turn_on_drag:\n",
    "        r_dot[2] += -(A_deer * rho * C_d * x_dot**2 / (2 * m_deer)).to(\"m/s**2\").magnitude\n",
    "    r_dot[3] = -(1*units.gravity).to(\"m/s**2\").magnitude\n",
    "    if turn_on_drag:\n",
    "        r_dot[3] -= (A_deer * rho * C_d * y_dot**2/(2 * m_deer)).to(\"m/s**2\").magnitude\n",
    "    return r_dot\n",
    "\n",
    "\n",
    "def hit_the_ground(t, y, _):\n",
    "    return y[1]\n",
    "\n",
    "hit_the_ground.terminal = True"
   ]
  },
  {
   "cell_type": "markdown",
   "id": "ef0d0fa9-b09b-4e51-8d3e-0c9558e80db6",
   "metadata": {},
   "source": [
    "First let's solve the problem without drag to make sure we get the same answer."
   ]
  },
  {
   "cell_type": "code",
   "execution_count": 8,
   "id": "377ba356-bc8d-4fe6-a11a-a00318b2742e",
   "metadata": {},
   "outputs": [
    {
     "name": "stdout",
     "output_type": "stream",
     "text": [
      "1\n"
     ]
    }
   ],
   "source": [
    "t_end = 20\n",
    "turn_on_drag = False\n",
    "sol = solve_ivp(equation_of_motion, t_span=(0, t_end), y0=R_0, events=(hit_the_ground,), dense_output=True, args=(turn_on_drag,))\n",
    "print(sol.status)"
   ]
  },
  {
   "cell_type": "code",
   "execution_count": 9,
   "id": "fa4ce93d-8bf1-4d32-9fbd-d9c7b73bad71",
   "metadata": {},
   "outputs": [
    {
     "name": "stdout",
     "output_type": "stream",
     "text": [
      "3.6550719502544786 second\n",
      "120.61737435839778 foot\n",
      "56.77068945740749 foot\n"
     ]
    }
   ],
   "source": [
    "t_eval = np.linspace(sol.sol.t_min, sol.sol.t_max, 1000)\n",
    "solution = sol.sol(t_eval).T\n",
    "x = Q_(solution[:, 0], \"m\")\n",
    "y = Q_(solution[:, 1], \"m\")\n",
    "V_x = Q_(solution[:, 2], \"m/s\")\n",
    "V_y = Q_(solution[:, 3], \"m/s\")\n",
    "time = Q_(t_eval, \"second\")\n",
    "print(time[-1], x[-1].to(\"ft\"), np.max(y).to(\"ft\"), sep=\"\\n\")"
   ]
  },
  {
   "cell_type": "markdown",
   "id": "fb03cc42-7772-4175-8d57-46afb3094b4a",
   "metadata": {},
   "source": [
    "We do indeed get the same answer. We can also plot the result. The deer goes over 17 meters (56 ft) high!"
   ]
  },
  {
   "cell_type": "code",
   "execution_count": 10,
   "id": "04e6b8f8-002a-424b-81e7-9cadd850afcb",
   "metadata": {},
   "outputs": [
    {
     "data": {
      "text/plain": [
       "[<matplotlib.lines.Line2D at 0x122bed8e0>]"
      ]
     },
     "execution_count": 10,
     "metadata": {},
     "output_type": "execute_result"
    },
    {
     "data": {
      "image/png": "[encoded data removed]",
      "text/plain": [
       "<Figure size 640x480 with 2 Axes>"
      ]
     },
     "metadata": {},
     "output_type": "display_data"
    }
   ],
   "source": [
    "fig, ax = plt.subplots()\n",
    "ax.plot(time, x, color=\"C0\")\n",
    "ax.plot(time, y, color=\"C1\")\n",
    "ax2 = ax.twinx()\n",
    "ax2.plot(time, V_x, color=\"C2\")\n",
    "ax2.plot(time, V_y, color=\"C3\")"
   ]
  },
  {
   "cell_type": "markdown",
   "id": "faa74b93-4741-4c35-ae8f-71e066601f97",
   "metadata": {},
   "source": [
    "Now solve the problem with drag."
   ]
  },
  {
   "cell_type": "code",
   "execution_count": 11,
   "id": "744de037-c33f-41b7-90b8-8fe1661af883",
   "metadata": {},
   "outputs": [
    {
     "name": "stdout",
     "output_type": "stream",
     "text": [
      "1\n"
     ]
    }
   ],
   "source": [
    "t_end = 20\n",
    "turn_on_drag = True\n",
    "sol = solve_ivp(equation_of_motion, t_span=(0, t_end), y0=R_0, events=(hit_the_ground,), dense_output=True, args=(turn_on_drag,))\n",
    "print(sol.status)"
   ]
  },
  {
   "cell_type": "code",
   "execution_count": 12,
   "id": "ad0c7361-b7e7-4278-8b29-5cf3c095e8ac",
   "metadata": {},
   "outputs": [
    {
     "name": "stdout",
     "output_type": "stream",
     "text": [
      "3.557553781985378 second\n",
      "112.10403934108355 foot\n",
      "54.77381846094395 foot\n"
     ]
    }
   ],
   "source": [
    "t_eval = np.linspace(sol.sol.t_min, sol.sol.t_max, 1000)\n",
    "solution = sol.sol(t_eval).T\n",
    "x = Q_(solution[:, 0], \"m\")\n",
    "y = Q_(solution[:, 1], \"m\")\n",
    "V_x = Q_(solution[:, 2], \"m/s\")\n",
    "V_y = Q_(solution[:, 3], \"m/s\")\n",
    "time = Q_(t_eval, \"second\")\n",
    "print(time[-1], x[-1].to(\"ft\"), np.max(y).to(\"ft\"), sep=\"\\n\")"
   ]
  },
  {
   "cell_type": "markdown",
   "id": "33547284-da5f-480a-875a-de78e1fadbd6",
   "metadata": {},
   "source": [
    "The deer goes about 112 feet, so drag takes off about 8 feet of distance. But that was with a smooth deer, what if we use a rough deer with $C_d = 0.5$?"
   ]
  },
  {
   "cell_type": "code",
   "execution_count": 13,
   "id": "0458c8e8-d049-491e-add5-6c6157c0ee7f",
   "metadata": {},
   "outputs": [
    {
     "name": "stdout",
     "output_type": "stream",
     "text": [
      "1\n"
     ]
    }
   ],
   "source": [
    "C_d = Q_(0.5, \"dimensionless\")\n",
    "t_end = 20\n",
    "turn_on_drag = True\n",
    "sol = solve_ivp(equation_of_motion, t_span=(0, t_end), y0=R_0, events=(hit_the_ground,), dense_output=True, args=(turn_on_drag,))\n",
    "print(sol.status)"
   ]
  },
  {
   "cell_type": "code",
   "execution_count": 14,
   "id": "0f4e4632-8ba0-45a6-8610-405146509318",
   "metadata": {},
   "outputs": [
    {
     "name": "stdout",
     "output_type": "stream",
     "text": [
      "3.257707043182585 second\n",
      "89.1169824701281 foot\n",
      "48.46832360032143 foot\n"
     ]
    }
   ],
   "source": [
    "t_eval = np.linspace(sol.sol.t_min, sol.sol.t_max, 1000)\n",
    "solution = sol.sol(t_eval).T\n",
    "x = Q_(solution[:, 0], \"m\")\n",
    "y = Q_(solution[:, 1], \"m\")\n",
    "V_x = Q_(solution[:, 2], \"m/s\")\n",
    "V_y = Q_(solution[:, 3], \"m/s\")\n",
    "time = Q_(t_eval, \"second\")\n",
    "print(time[-1], x[-1].to(\"ft\"), np.max(y).to(\"ft\"), sep=\"\\n\")"
   ]
  },
  {
   "cell_type": "markdown",
   "id": "6897aa7f-714c-45ea-b745-dd75607695d0",
   "metadata": {},
   "source": [
    "That made a big difference, only about 90 feet now!"
   ]
  }
 ],
 "metadata": {
  "kernelspec": {
   "display_name": "Python 3 (ipykernel)",
   "language": "python",
   "name": "python3"
  },
  "language_info": {
   "codemirror_mode": {
    "name": "ipython",
    "version": 3
   },
   "file_extension": ".py",
   "mimetype": "text/x-python",
   "name": "python",
   "nbconvert_exporter": "python",
   "pygments_lexer": "ipython3",
   "version": "3.12.1"
  }
 },
 "nbformat": 4,
 "nbformat_minor": 5
}
